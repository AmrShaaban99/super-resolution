{
  "nbformat": 4,
  "nbformat_minor": 0,
  "metadata": {
    "colab": {
      "name": "final_measurement.ipynb",
      "provenance": [],
      "collapsed_sections": []
    },
    "kernelspec": {
      "name": "python3",
      "display_name": "Python 3"
    },
    "language_info": {
      "name": "python"
    }
  },
  "cells": [
    {
      "cell_type": "code",
      "source": [
        "pip install xlsxwriter"
      ],
      "metadata": {
        "id": "a_dK3EKLHicX",
        "colab": {
          "base_uri": "https://localhost:8080/"
        },
        "outputId": "94b9a19f-f2b1-4074-cfd8-924260e5f8b2"
      },
      "execution_count": null,
      "outputs": [
        {
          "output_type": "stream",
          "name": "stdout",
          "text": [
            "Looking in indexes: https://pypi.org/simple, https://us-python.pkg.dev/colab-wheels/public/simple/\n",
            "Collecting xlsxwriter\n",
            "  Downloading XlsxWriter-3.0.3-py3-none-any.whl (149 kB)\n",
            "\u001b[K     |████████████████████████████████| 149 kB 16.3 MB/s \n",
            "\u001b[?25hInstalling collected packages: xlsxwriter\n",
            "Successfully installed xlsxwriter-3.0.3\n"
          ]
        }
      ]
    },
    {
      "cell_type": "code",
      "source": [
        "import xlsxwriter\n",
        "import math\n",
        "import cv2\n",
        "import math\n",
        "import numpy as np\n",
        "import os\n",
        "import cv2\n",
        "from skimage.metrics import structural_similarity as ssim"
      ],
      "metadata": {
        "id": "u1kUgVzw1X1F"
      },
      "execution_count": null,
      "outputs": []
    },
    {
      "cell_type": "code",
      "source": [
        "def psnr(img1, img2):\n",
        "    mse = np.mean((img1 - img2) ** 2)\n",
        "    if mse == 0:\n",
        "        return 100\n",
        "    PIXEL_MAX = 255.0\n",
        "    return 20 * math.log10(PIXEL_MAX / math.sqrt(mse))"
      ],
      "metadata": {
        "id": "A80LXFHE7ctz"
      },
      "execution_count": null,
      "outputs": []
    },
    {
      "cell_type": "code",
      "source": [
        "# Python program to get average of a list\n",
        "def Average(lst):\n",
        "\treturn sum(lst) / len(lst)\n"
      ],
      "metadata": {
        "id": "Xz89dny2EVCv"
      },
      "execution_count": null,
      "outputs": []
    },
    {
      "cell_type": "code",
      "source": [
        "Model_Name = input(\"enter your Model Name:\")             #file name\n",
        "destination_path = '/content/drive/MyDrive/graduation project/psnr ssim/project Dataset/'    #path of the destination don't forget exstar / after the path\n",
        "workbook = xlsxwriter.Workbook(destination_path+str(Model_Name)+'.xlsx')           #create xlsx sheet\n",
        "worksheet = workbook.add_worksheet()\n",
        "worksheet.write('A1', 'Name')                                 #add Name to column1\n",
        "worksheet.write('B1', 'Shape')\n",
        "worksheet.write('C1', 'ssim')\n",
        "worksheet.write('D1', 'psnr')"
      ],
      "metadata": {
        "id": "tyP8A6Yp1bWt",
        "colab": {
          "base_uri": "https://localhost:8080/"
        },
        "outputId": "776e51b3-60bf-485b-db2f-ce7c1bbadda5"
      },
      "execution_count": null,
      "outputs": [
        {
          "name": "stdout",
          "output_type": "stream",
          "text": [
            "enter your Model Name:esrgan_4x_dataset\n"
          ]
        },
        {
          "output_type": "execute_result",
          "data": {
            "text/plain": [
              "0"
            ]
          },
          "metadata": {},
          "execution_count": 105
        }
      ]
    },
    {
      "cell_type": "code",
      "source": [
        "orignal = []\n",
        "orignalpath = \"/content/drive/MyDrive/graduation project/Datasets/our dataset/Dataset/\"  #path of the dataset    don't forget exstar / after the path\n",
        "for filename in os.listdir(orignalpath):\n",
        "      pathimage = orignalpath+filename\n",
        "      orignal.append(pathimage) \n",
        "orignal = np.array(orignal)\n",
        "orignal.sort()\n",
        "print(orignal)"
      ],
      "metadata": {
        "id": "GP6qDCx51n31",
        "colab": {
          "base_uri": "https://localhost:8080/"
        },
        "outputId": "0002ec83-87b0-4c58-9483-525dd6a231b2"
      },
      "execution_count": null,
      "outputs": [
        {
          "output_type": "stream",
          "name": "stdout",
          "text": [
            "['/content/drive/MyDrive/graduation project/Datasets/our dataset/Dataset/Cat.jpg'\n",
            " '/content/drive/MyDrive/graduation project/Datasets/our dataset/Dataset/Details.jpg'\n",
            " '/content/drive/MyDrive/graduation project/Datasets/our dataset/Dataset/MRI1.jpg'\n",
            " '/content/drive/MyDrive/graduation project/Datasets/our dataset/Dataset/MTI.jpg'\n",
            " '/content/drive/MyDrive/graduation project/Datasets/our dataset/Dataset/Nature1.jpg'\n",
            " '/content/drive/MyDrive/graduation project/Datasets/our dataset/Dataset/Nature2.jpg'\n",
            " '/content/drive/MyDrive/graduation project/Datasets/our dataset/Dataset/Toys.jpg'\n",
            " '/content/drive/MyDrive/graduation project/Datasets/our dataset/Dataset/Xmas.jpg']\n"
          ]
        }
      ]
    },
    {
      "cell_type": "code",
      "source": [
        "subimage = []\n",
        "subimagepath = \"/content/drive/MyDrive/graduation project/All models/our models/ESRGAN(Adham)/project dataset/\"  #path of the model   don't forget exstar / after the path\n",
        "for filename in os.listdir(subimagepath):\n",
        "      pathimage = subimagepath+filename\n",
        "      subimage.append(pathimage) \n",
        "subimage = np.array(subimage)\n",
        "subimage.sort()\n",
        "print(subimage)"
      ],
      "metadata": {
        "id": "NwjkkmUT2AJx",
        "colab": {
          "base_uri": "https://localhost:8080/"
        },
        "outputId": "1a574407-2d5f-41d7-a4cb-1797bc9e449e"
      },
      "execution_count": null,
      "outputs": [
        {
          "output_type": "stream",
          "name": "stdout",
          "text": [
            "['/content/drive/MyDrive/graduation project/All models/our models/ESRGAN(Adham)/project dataset/ganquarterCat.png'\n",
            " '/content/drive/MyDrive/graduation project/All models/our models/ESRGAN(Adham)/project dataset/ganquarterDetails.png'\n",
            " '/content/drive/MyDrive/graduation project/All models/our models/ESRGAN(Adham)/project dataset/ganquarterMRI1.png'\n",
            " '/content/drive/MyDrive/graduation project/All models/our models/ESRGAN(Adham)/project dataset/ganquarterMTI1.png'\n",
            " '/content/drive/MyDrive/graduation project/All models/our models/ESRGAN(Adham)/project dataset/ganquarterNature1.png'\n",
            " '/content/drive/MyDrive/graduation project/All models/our models/ESRGAN(Adham)/project dataset/ganquarterNature2.png'\n",
            " '/content/drive/MyDrive/graduation project/All models/our models/ESRGAN(Adham)/project dataset/ganquarterToys.png'\n",
            " '/content/drive/MyDrive/graduation project/All models/our models/ESRGAN(Adham)/project dataset/ganquarterXmas.png']\n"
          ]
        }
      ]
    },
    {
      "cell_type": "code",
      "source": [
        "i =0\n",
        "avgpsnr=[]\n",
        "avgssim=[]\n",
        "for x in orignal:\n",
        "  temp=os.path.basename(os.path.normpath(orignal[i]))\n",
        "  print(temp)\n",
        "  worksheet.write('A'+str(i+2),str(temp))  #image name first column\n",
        "  print(orignal[i])\n",
        "  print(subimage[i])\n",
        "  image1= cv2. imread(orignal[i], 1)          #read dataset image from array\n",
        "  image2= cv2. imread(subimage[i])             #read subimage from array\n",
        "\n",
        "  print(image1.shape)                         #making sure 2 images matches in shape\n",
        "  print(image2.shape)\n",
        "  worksheet.write('B'+str(i+2), str(image1.shape)) #image shape second column\n",
        "  \n",
        "  SSIM1 = ssim( image1,image2 , multichannel =True)   #calculate the SSim for the 2 images\n",
        "  print(f'SSIM for {x}'\"  is\",SSIM1)                   # print ssim\n",
        "  avgssim.append(SSIM1)\n",
        "  worksheet.write('C'+str(i+2), SSIM1)                #puting ssim value in third column\n",
        "  PSNR1 = psnr(image1, image2)                            #calculate the psnr for the 2 images \n",
        "  print(f'psnr for {x}'\"is\",PSNR1)                         # print psnr\n",
        "  avgpsnr.append(PSNR1)\n",
        "  worksheet.write('D'+str(i+2), PSNR1)                    #puting psnr value in forth column\n",
        "  \n",
        "  i+=1 \n",
        "worksheet.write('C'+str(len(orignal)+2), Average(avgssim))   #avg ssim\n",
        "worksheet.write('D'+str(len(orignal)+2), Average(avgpsnr))    #avg psnr \n",
        "worksheet.write('A'+str(len(orignal)+2), \"AVG\")\n",
        "workbook.close()  "
      ],
      "metadata": {
        "id": "azJ6y7kv5QeI",
        "colab": {
          "base_uri": "https://localhost:8080/"
        },
        "outputId": "af6e6138-4883-4fe2-e066-2e3edd1e12d6"
      },
      "execution_count": null,
      "outputs": [
        {
          "output_type": "stream",
          "name": "stdout",
          "text": [
            "Cat.jpg\n",
            "/content/drive/MyDrive/graduation project/Datasets/our dataset/Dataset/Cat.jpg\n",
            "/content/drive/MyDrive/graduation project/All models/our models/ESRGAN(Adham)/project dataset/ganquarterCat.png\n",
            "(4624, 3468, 3)\n",
            "(4624, 3468, 3)\n",
            "SSIM for /content/drive/MyDrive/graduation project/Datasets/our dataset/Dataset/Cat.jpg  is 0.8844334869482763\n",
            "psnr for /content/drive/MyDrive/graduation project/Datasets/our dataset/Dataset/Cat.jpgis 35.29566031833599\n",
            "Details.jpg\n",
            "/content/drive/MyDrive/graduation project/Datasets/our dataset/Dataset/Details.jpg\n",
            "/content/drive/MyDrive/graduation project/All models/our models/ESRGAN(Adham)/project dataset/ganquarterDetails.png\n",
            "(2448, 3264, 3)\n",
            "(2448, 3264, 3)\n",
            "SSIM for /content/drive/MyDrive/graduation project/Datasets/our dataset/Dataset/Details.jpg  is 0.7559937392393886\n",
            "psnr for /content/drive/MyDrive/graduation project/Datasets/our dataset/Dataset/Details.jpgis 31.738732774554844\n",
            "MRI1.jpg\n",
            "/content/drive/MyDrive/graduation project/Datasets/our dataset/Dataset/MRI1.jpg\n",
            "/content/drive/MyDrive/graduation project/All models/our models/ESRGAN(Adham)/project dataset/ganquarterMRI1.png\n",
            "(1636, 3004, 3)\n",
            "(1636, 3004, 3)\n",
            "SSIM for /content/drive/MyDrive/graduation project/Datasets/our dataset/Dataset/MRI1.jpg  is 0.8210501922783858\n",
            "psnr for /content/drive/MyDrive/graduation project/Datasets/our dataset/Dataset/MRI1.jpgis 34.50676740671743\n",
            "MTI.jpg\n",
            "/content/drive/MyDrive/graduation project/Datasets/our dataset/Dataset/MTI.jpg\n",
            "/content/drive/MyDrive/graduation project/All models/our models/ESRGAN(Adham)/project dataset/ganquarterMTI1.png\n",
            "(4624, 3468, 3)\n",
            "(4624, 3468, 3)\n",
            "SSIM for /content/drive/MyDrive/graduation project/Datasets/our dataset/Dataset/MTI.jpg  is 0.7888861895008068\n",
            "psnr for /content/drive/MyDrive/graduation project/Datasets/our dataset/Dataset/MTI.jpgis 33.80481185980687\n",
            "Nature1.jpg\n",
            "/content/drive/MyDrive/graduation project/Datasets/our dataset/Dataset/Nature1.jpg\n",
            "/content/drive/MyDrive/graduation project/All models/our models/ESRGAN(Adham)/project dataset/ganquarterNature1.png\n",
            "(1080, 1920, 3)\n",
            "(1080, 1920, 3)\n",
            "SSIM for /content/drive/MyDrive/graduation project/Datasets/our dataset/Dataset/Nature1.jpg  is 0.3644266231441316\n",
            "psnr for /content/drive/MyDrive/graduation project/Datasets/our dataset/Dataset/Nature1.jpgis 29.1874903926215\n",
            "Nature2.jpg\n",
            "/content/drive/MyDrive/graduation project/Datasets/our dataset/Dataset/Nature2.jpg\n",
            "/content/drive/MyDrive/graduation project/All models/our models/ESRGAN(Adham)/project dataset/ganquarterNature2.png\n",
            "(1920, 1080, 3)\n",
            "(1920, 1080, 3)\n",
            "SSIM for /content/drive/MyDrive/graduation project/Datasets/our dataset/Dataset/Nature2.jpg  is 0.6072091168808559\n",
            "psnr for /content/drive/MyDrive/graduation project/Datasets/our dataset/Dataset/Nature2.jpgis 31.22210827239918\n",
            "Toys.jpg\n",
            "/content/drive/MyDrive/graduation project/Datasets/our dataset/Dataset/Toys.jpg\n",
            "/content/drive/MyDrive/graduation project/All models/our models/ESRGAN(Adham)/project dataset/ganquarterToys.png\n",
            "(2926, 3516, 3)\n",
            "(2926, 3516, 3)\n",
            "SSIM for /content/drive/MyDrive/graduation project/Datasets/our dataset/Dataset/Toys.jpg  is 0.7660637571653637\n",
            "psnr for /content/drive/MyDrive/graduation project/Datasets/our dataset/Dataset/Toys.jpgis 32.98136795844795\n",
            "Xmas.jpg\n",
            "/content/drive/MyDrive/graduation project/Datasets/our dataset/Dataset/Xmas.jpg\n",
            "/content/drive/MyDrive/graduation project/All models/our models/ESRGAN(Adham)/project dataset/ganquarterXmas.png\n",
            "(1942, 3468, 3)\n",
            "(1942, 3468, 3)\n",
            "SSIM for /content/drive/MyDrive/graduation project/Datasets/our dataset/Dataset/Xmas.jpg  is 0.5272772077279707\n",
            "psnr for /content/drive/MyDrive/graduation project/Datasets/our dataset/Dataset/Xmas.jpgis 29.884994248206624\n"
          ]
        }
      ]
    },
    {
      "cell_type": "code",
      "source": [
        ""
      ],
      "metadata": {
        "id": "-D1GV52Ccpw3"
      },
      "execution_count": null,
      "outputs": []
    }
  ]
}