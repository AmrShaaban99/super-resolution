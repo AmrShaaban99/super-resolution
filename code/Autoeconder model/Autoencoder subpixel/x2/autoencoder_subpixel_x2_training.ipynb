{
 "cells": [
  {
   "cell_type": "code",
   "execution_count": 24,
   "id": "0edb455a",
   "metadata": {},
   "outputs": [],
   "source": [
    "from tensorflow.keras.preprocessing import image_dataset_from_directory\n",
    "from tensorflow.keras.layers import Input, Dense, Conv2D, MaxPooling2D, Dropout\n",
    "from tensorflow.keras.layers import Conv2DTranspose, UpSampling2D, add\n",
    "from skimage.transform import resize, rescale\n",
    "from tensorflow.keras.models import Model\n",
    "from tensorflow.keras import regularizers\n",
    "from IPython.display import display\n",
    "from tensorflow.keras import Input, Model\n",
    "import matplotlib.pyplot as plt\n",
    "from scipy import ndimage, misc\n",
    "from matplotlib import pyplot\n",
    "import tensorflow as tf\n",
    "from tensorflow import keras\n",
    "import numpy as np\n",
    "np.random.seed(0)\n",
    "import re\n",
    "import cv2\n",
    "import os\n",
    "import math\n",
    "import numpy as np"
   ]
  },
  {
   "cell_type": "code",
   "execution_count": 14,
   "id": "386d6a51",
   "metadata": {},
   "outputs": [],
   "source": [
    "root_dir = os.path.join(\"data/\", \"DIV2K_train_HR/\")\n",
    "\n",
    "resize_size = 512\n",
    "upscale_factor = 2\n",
    "input_size = resize_size // upscale_factor\n",
    "batch_size = 10"
   ]
  },
  {
   "cell_type": "code",
   "execution_count": 15,
   "id": "69fb7fda",
   "metadata": {},
   "outputs": [
    {
     "name": "stdout",
     "output_type": "stream",
     "text": [
      "256\n"
     ]
    }
   ],
   "source": [
    "print(input_size)"
   ]
  },
  {
   "cell_type": "code",
   "execution_count": 12,
   "id": "aef09196",
   "metadata": {},
   "outputs": [
    {
     "name": "stdout",
     "output_type": "stream",
     "text": [
      "Found 900 files belonging to 1 classes.\n",
      "Using 720 files for training.\n"
     ]
    }
   ],
   "source": [
    "train_ds = image_dataset_from_directory(\n",
    "        root_dir,\n",
    "        batch_size=batch_size,\n",
    "        image_size=(resize_size, resize_size),\n",
    "        validation_split=0.2,\n",
    "        subset=\"training\",\n",
    "        seed=1337,\n",
    "        label_mode=None,\n",
    ")"
   ]
  },
  {
   "cell_type": "code",
   "execution_count": 16,
   "id": "62deed98",
   "metadata": {},
   "outputs": [
    {
     "name": "stdout",
     "output_type": "stream",
     "text": [
      "Found 900 files belonging to 1 classes.\n",
      "Using 180 files for validation.\n"
     ]
    }
   ],
   "source": [
    "valid_ds = image_dataset_from_directory(\n",
    "        root_dir,\n",
    "        batch_size=batch_size,\n",
    "        image_size=(resize_size, resize_size),\n",
    "        validation_split=0.2,\n",
    "        subset=\"validation\",\n",
    "        seed=1337,\n",
    "        label_mode=None,\n",
    ")"
   ]
  },
  {
   "cell_type": "code",
   "execution_count": 17,
   "id": "78581f33",
   "metadata": {},
   "outputs": [],
   "source": [
    "def scaling(input_image):\n",
    "    input_image = input_image / 255.0\n",
    "    return input_image"
   ]
  },
  {
   "cell_type": "code",
   "execution_count": 18,
   "id": "b4a3dbd8",
   "metadata": {},
   "outputs": [],
   "source": [
    "train_ds = train_ds.map(scaling)"
   ]
  },
  {
   "cell_type": "code",
   "execution_count": 19,
   "id": "434e8fd4",
   "metadata": {},
   "outputs": [],
   "source": [
    "valid_ds = valid_ds.map(scaling)"
   ]
  },
  {
   "cell_type": "code",
   "execution_count": 20,
   "id": "f5d2bb56",
   "metadata": {},
   "outputs": [],
   "source": [
    "# Use TF Ops to process.\n",
    "def process_input(input_x, input_size, upscale_factor):\n",
    "    return tf.image.resize(input_x, [input_size, input_size], method=\"area\")\n",
    "\n",
    "\n",
    "def process_target(input_x):\n",
    "    return input_x"
   ]
  },
  {
   "cell_type": "code",
   "execution_count": 21,
   "id": "09d6bf51",
   "metadata": {},
   "outputs": [],
   "source": [
    "train_ds = train_ds.map(\n",
    "           lambda x: (process_input(x, input_size, upscale_factor), process_target(x))\n",
    ")\n",
    "\n",
    "train_ds = train_ds.prefetch(buffer_size=32)\n",
    "\n",
    "valid_ds = valid_ds.map(\n",
    "          lambda x: (process_input(x, input_size, upscale_factor), process_target(x))\n",
    ")\n",
    "\n",
    "valid_ds = valid_ds.prefetch(buffer_size=32)"
   ]
  },
  {
   "cell_type": "code",
   "execution_count": 45,
   "id": "eb29490a",
   "metadata": {},
   "outputs": [],
   "source": [
    "scale_factor=2\n",
    "input_img = Input(shape=(None, None, 3))\n",
    "l1 = Conv2D(64, (3, 3), padding = 'same', activation = 'relu', \n",
    "            activity_regularizer = regularizers.l1(10e-10))(input_img)\n",
    "\n",
    "l2 = Conv2D(64, (3, 3), padding = 'same', activation = 'relu', \n",
    "            activity_regularizer = regularizers.l1(10e-10))(l1)\n",
    "\n",
    "l3 = MaxPooling2D(padding = 'same')(l2)   \n",
    "l3 = Dropout(0.3)(l3)\n",
    "\n",
    "l4 = Conv2D(128, (3, 3),  padding = 'same', activation = 'relu', \n",
    "            activity_regularizer = regularizers.l1(10e-10))(l3)\n",
    "\n",
    "l5 = Conv2D(128, (3, 3), padding = 'same', activation = 'relu', \n",
    "            activity_regularizer = regularizers.l1(10e-10))(l4)\n",
    "\n",
    "l6 = MaxPooling2D(padding = 'same')(l5) #2\n",
    "\n",
    "l7 = Conv2D(256, (3, 3), padding = 'same', activation = 'relu', \n",
    "            activity_regularizer = regularizers.l1(10e-10))(l6)\n",
    "l8 = Conv2DTranspose(256, (2,2), strides=(2,2))(l7)\n",
    "\n",
    "l9 = Conv2D(128, (3, 3), padding = 'same', activation = 'relu',\n",
    "            activity_regularizer = regularizers.l1(10e-10))(l8)\n",
    "\n",
    "l10 = Conv2D(128, (3, 3), padding = 'same', activation = 'relu',\n",
    "             activity_regularizer = regularizers.l1(10e-10))(l9)     # 2  /   2 \n",
    "\n",
    "l11 = add([l5, l10])\n",
    "l12 = Conv2DTranspose(128, (2,2), strides=(2,2))(l11)\n",
    "\n",
    "l13 = Conv2D(64, (3, 3), padding = 'same', activation = 'relu',\n",
    "             activity_regularizer = regularizers.l1(10e-10))(l12)\n",
    "\n",
    "l14 = Conv2D(64, (3, 3), padding = 'same', activation = 'relu',\n",
    "             activity_regularizer = regularizers.l1(10e-10))(l13)\n",
    "\n",
    "l15 = add([l14, l2])\n",
    "postUpsampling= Conv2DTranspose(64, (2,2), strides=(2,2))(l15)\n",
    "\n",
    "X_up = Conv2D(64 * (scale_factor ** 2), 3, padding='same')(l15)\n",
    "postUpsampling = tf.nn.depth_to_space(X_up, scale_factor)\n",
    "\n",
    "\n",
    "decoded = Conv2D(3, (3, 3), padding = 'same', \n",
    "                 activation = 'relu', activity_regularizer = regularizers.l1(10e-10))(postUpsampling)\n",
    "\n",
    "\n",
    "autoencoder = Model(input_img, decoded)"
   ]
  },
  {
   "cell_type": "code",
   "execution_count": 46,
   "id": "16dda152",
   "metadata": {},
   "outputs": [
    {
     "name": "stdout",
     "output_type": "stream",
     "text": [
      "Model: \"model_3\"\n",
      "__________________________________________________________________________________________________\n",
      " Layer (type)                   Output Shape         Param #     Connected to                     \n",
      "==================================================================================================\n",
      " input_5 (InputLayer)           [(None, None, None,  0           []                               \n",
      "                                 3)]                                                              \n",
      "                                                                                                  \n",
      " conv2d_33 (Conv2D)             (None, None, None,   1792        ['input_5[0][0]']                \n",
      "                                64)                                                               \n",
      "                                                                                                  \n",
      " conv2d_34 (Conv2D)             (None, None, None,   36928       ['conv2d_33[0][0]']              \n",
      "                                64)                                                               \n",
      "                                                                                                  \n",
      " max_pooling2d_6 (MaxPooling2D)  (None, None, None,   0          ['conv2d_34[0][0]']              \n",
      "                                64)                                                               \n",
      "                                                                                                  \n",
      " dropout_3 (Dropout)            (None, None, None,   0           ['max_pooling2d_6[0][0]']        \n",
      "                                64)                                                               \n",
      "                                                                                                  \n",
      " conv2d_35 (Conv2D)             (None, None, None,   73856       ['dropout_3[0][0]']              \n",
      "                                128)                                                              \n",
      "                                                                                                  \n",
      " conv2d_36 (Conv2D)             (None, None, None,   147584      ['conv2d_35[0][0]']              \n",
      "                                128)                                                              \n",
      "                                                                                                  \n",
      " max_pooling2d_7 (MaxPooling2D)  (None, None, None,   0          ['conv2d_36[0][0]']              \n",
      "                                128)                                                              \n",
      "                                                                                                  \n",
      " conv2d_37 (Conv2D)             (None, None, None,   295168      ['max_pooling2d_7[0][0]']        \n",
      "                                256)                                                              \n",
      "                                                                                                  \n",
      " conv2d_transpose_9 (Conv2DTran  (None, None, None,   262400     ['conv2d_37[0][0]']              \n",
      " spose)                         256)                                                              \n",
      "                                                                                                  \n",
      " conv2d_38 (Conv2D)             (None, None, None,   295040      ['conv2d_transpose_9[0][0]']     \n",
      "                                128)                                                              \n",
      "                                                                                                  \n",
      " conv2d_39 (Conv2D)             (None, None, None,   147584      ['conv2d_38[0][0]']              \n",
      "                                128)                                                              \n",
      "                                                                                                  \n",
      " add_6 (Add)                    (None, None, None,   0           ['conv2d_36[0][0]',              \n",
      "                                128)                              'conv2d_39[0][0]']              \n",
      "                                                                                                  \n",
      " conv2d_transpose_10 (Conv2DTra  (None, None, None,   65664      ['add_6[0][0]']                  \n",
      " nspose)                        128)                                                              \n",
      "                                                                                                  \n",
      " conv2d_40 (Conv2D)             (None, None, None,   73792       ['conv2d_transpose_10[0][0]']    \n",
      "                                64)                                                               \n",
      "                                                                                                  \n",
      " conv2d_41 (Conv2D)             (None, None, None,   36928       ['conv2d_40[0][0]']              \n",
      "                                64)                                                               \n",
      "                                                                                                  \n",
      " add_7 (Add)                    (None, None, None,   0           ['conv2d_41[0][0]',              \n",
      "                                64)                               'conv2d_34[0][0]']              \n",
      "                                                                                                  \n",
      " conv2d_42 (Conv2D)             (None, None, None,   147712      ['add_7[0][0]']                  \n",
      "                                256)                                                              \n",
      "                                                                                                  \n",
      " tf.nn.depth_to_space_3 (TFOpLa  (None, None, None,   0          ['conv2d_42[0][0]']              \n",
      " mbda)                          64)                                                               \n",
      "                                                                                                  \n",
      " conv2d_43 (Conv2D)             (None, None, None,   1731        ['tf.nn.depth_to_space_3[0][0]'] \n",
      "                                3)                                                                \n",
      "                                                                                                  \n",
      "==================================================================================================\n",
      "Total params: 1,586,179\n",
      "Trainable params: 1,586,179\n",
      "Non-trainable params: 0\n",
      "__________________________________________________________________________________________________\n"
     ]
    }
   ],
   "source": [
    "autoencoder.summary()"
   ]
  },
  {
   "cell_type": "code",
   "execution_count": 47,
   "id": "997158c8",
   "metadata": {},
   "outputs": [],
   "source": [
    "autoencoder.compile(optimizer = 'adam', loss = 'mean_squared_error',metrics='accuracy')"
   ]
  },
  {
   "cell_type": "code",
   "execution_count": 48,
   "id": "5566295a",
   "metadata": {},
   "outputs": [],
   "source": [
    "callback = tf.keras.callbacks.EarlyStopping(monitor='val_loss',patience=10,restore_best_weights=True)"
   ]
  },
  {
   "cell_type": "code",
   "execution_count": 49,
   "id": "04359aba",
   "metadata": {
    "scrolled": false
   },
   "outputs": [
    {
     "name": "stdout",
     "output_type": "stream",
     "text": [
      "Epoch 1/80\n",
      "72/72 [==============================] - 976s 13s/step - loss: 0.0256 - accuracy: 0.6152 - val_loss: 0.0060 - val_accuracy: 0.7252\n",
      "Epoch 2/80\n",
      "72/72 [==============================] - 974s 13s/step - loss: 0.0056 - accuracy: 0.8279 - val_loss: 0.0044 - val_accuracy: 0.8440\n",
      "Epoch 3/80\n",
      "72/72 [==============================] - 972s 13s/step - loss: 0.0048 - accuracy: 0.8599 - val_loss: 0.0041 - val_accuracy: 0.8603\n",
      "Epoch 4/80\n",
      "72/72 [==============================] - 974s 13s/step - loss: 0.0046 - accuracy: 0.8705 - val_loss: 0.0039 - val_accuracy: 0.8779\n",
      "Epoch 5/80\n",
      "72/72 [==============================] - 973s 13s/step - loss: 0.0044 - accuracy: 0.8712 - val_loss: 0.0038 - val_accuracy: 0.8888\n",
      "Epoch 6/80\n",
      "72/72 [==============================] - 975s 13s/step - loss: 0.0042 - accuracy: 0.8840 - val_loss: 0.0037 - val_accuracy: 0.9017\n",
      "Epoch 7/80\n",
      "72/72 [==============================] - 974s 13s/step - loss: 0.0043 - accuracy: 0.8856 - val_loss: 0.0041 - val_accuracy: 0.8893\n",
      "Epoch 8/80\n",
      "72/72 [==============================] - 975s 13s/step - loss: 0.0042 - accuracy: 0.8881 - val_loss: 0.0037 - val_accuracy: 0.8967\n",
      "Epoch 9/80\n",
      "72/72 [==============================] - 974s 13s/step - loss: 0.0041 - accuracy: 0.8927 - val_loss: 0.0037 - val_accuracy: 0.8928\n",
      "Epoch 10/80\n",
      "72/72 [==============================] - 974s 13s/step - loss: 0.0041 - accuracy: 0.8911 - val_loss: 0.0036 - val_accuracy: 0.8903\n",
      "Epoch 11/80\n",
      "72/72 [==============================] - 976s 13s/step - loss: 0.0041 - accuracy: 0.8961 - val_loss: 0.0036 - val_accuracy: 0.8962\n",
      "Epoch 12/80\n",
      "72/72 [==============================] - 976s 13s/step - loss: 0.0040 - accuracy: 0.8927 - val_loss: 0.0035 - val_accuracy: 0.8916\n",
      "Epoch 13/80\n",
      "72/72 [==============================] - 975s 13s/step - loss: 0.0041 - accuracy: 0.8911 - val_loss: 0.0036 - val_accuracy: 0.8963\n",
      "Epoch 14/80\n",
      "72/72 [==============================] - 975s 13s/step - loss: 0.0041 - accuracy: 0.8843 - val_loss: 0.0035 - val_accuracy: 0.8877\n",
      "Epoch 15/80\n",
      "72/72 [==============================] - 975s 13s/step - loss: 0.0040 - accuracy: 0.8968 - val_loss: 0.0035 - val_accuracy: 0.8853\n",
      "Epoch 16/80\n",
      "72/72 [==============================] - 977s 13s/step - loss: 0.0040 - accuracy: 0.8954 - val_loss: 0.0038 - val_accuracy: 0.8883\n",
      "Epoch 17/80\n",
      "72/72 [==============================] - 974s 13s/step - loss: 0.0040 - accuracy: 0.8941 - val_loss: 0.0035 - val_accuracy: 0.8939\n",
      "Epoch 18/80\n",
      "72/72 [==============================] - 976s 13s/step - loss: 0.0039 - accuracy: 0.8994 - val_loss: 0.0034 - val_accuracy: 0.9015\n",
      "Epoch 19/80\n",
      "72/72 [==============================] - 976s 13s/step - loss: 0.0041 - accuracy: 0.8930 - val_loss: 0.0035 - val_accuracy: 0.9090\n",
      "Epoch 20/80\n",
      "72/72 [==============================] - 978s 14s/step - loss: 0.0039 - accuracy: 0.9003 - val_loss: 0.0034 - val_accuracy: 0.9013\n",
      "Epoch 21/80\n",
      "72/72 [==============================] - 975s 13s/step - loss: 0.0039 - accuracy: 0.8982 - val_loss: 0.0034 - val_accuracy: 0.9128\n",
      "Epoch 22/80\n",
      "72/72 [==============================] - 975s 13s/step - loss: 0.0039 - accuracy: 0.9008 - val_loss: 0.0034 - val_accuracy: 0.8951\n",
      "Epoch 23/80\n",
      "72/72 [==============================] - 977s 13s/step - loss: 0.0039 - accuracy: 0.8986 - val_loss: 0.0034 - val_accuracy: 0.8935\n",
      "Epoch 24/80\n",
      "72/72 [==============================] - 976s 13s/step - loss: 0.0038 - accuracy: 0.9033 - val_loss: 0.0034 - val_accuracy: 0.9094\n",
      "Epoch 25/80\n",
      "72/72 [==============================] - 975s 13s/step - loss: 0.0038 - accuracy: 0.9018 - val_loss: 0.0036 - val_accuracy: 0.9030\n",
      "Epoch 26/80\n",
      "72/72 [==============================] - 977s 13s/step - loss: 0.0039 - accuracy: 0.8921 - val_loss: 0.0034 - val_accuracy: 0.8840\n",
      "Epoch 27/80\n",
      "72/72 [==============================] - 976s 13s/step - loss: 0.0038 - accuracy: 0.9028 - val_loss: 0.0035 - val_accuracy: 0.9051\n",
      "Epoch 28/80\n",
      "72/72 [==============================] - 977s 13s/step - loss: 0.0040 - accuracy: 0.8845 - val_loss: 0.0038 - val_accuracy: 0.9113\n",
      "Epoch 29/80\n",
      "72/72 [==============================] - 977s 13s/step - loss: 0.0040 - accuracy: 0.8858 - val_loss: 0.0037 - val_accuracy: 0.9055\n",
      "Epoch 30/80\n",
      "72/72 [==============================] - 977s 13s/step - loss: 0.0039 - accuracy: 0.8935 - val_loss: 0.0034 - val_accuracy: 0.8928\n",
      "Epoch 31/80\n",
      "72/72 [==============================] - 977s 13s/step - loss: 0.0038 - accuracy: 0.9026 - val_loss: 0.0033 - val_accuracy: 0.9025\n",
      "Epoch 32/80\n",
      "72/72 [==============================] - 978s 13s/step - loss: 0.0038 - accuracy: 0.9069 - val_loss: 0.0033 - val_accuracy: 0.9110\n",
      "Epoch 33/80\n",
      "72/72 [==============================] - 976s 13s/step - loss: 0.0039 - accuracy: 0.8896 - val_loss: 0.0034 - val_accuracy: 0.8932\n",
      "Epoch 34/80\n",
      "72/72 [==============================] - 976s 13s/step - loss: 0.0038 - accuracy: 0.9021 - val_loss: 0.0033 - val_accuracy: 0.8943\n",
      "Epoch 35/80\n",
      "72/72 [==============================] - 975s 13s/step - loss: 0.0038 - accuracy: 0.9077 - val_loss: 0.0033 - val_accuracy: 0.9146\n",
      "Epoch 36/80\n",
      "72/72 [==============================] - 976s 13s/step - loss: 0.0038 - accuracy: 0.9043 - val_loss: 0.0033 - val_accuracy: 0.9099\n",
      "Epoch 37/80\n",
      "72/72 [==============================] - 976s 13s/step - loss: 0.0038 - accuracy: 0.9058 - val_loss: 0.0033 - val_accuracy: 0.8846\n",
      "Epoch 38/80\n",
      "72/72 [==============================] - 978s 13s/step - loss: 0.0038 - accuracy: 0.9050 - val_loss: 0.0033 - val_accuracy: 0.9019\n",
      "Epoch 39/80\n",
      "72/72 [==============================] - 976s 13s/step - loss: 0.0038 - accuracy: 0.8965 - val_loss: 0.0033 - val_accuracy: 0.8910\n",
      "Epoch 40/80\n",
      "72/72 [==============================] - 977s 13s/step - loss: 0.0038 - accuracy: 0.8960 - val_loss: 0.0034 - val_accuracy: 0.8970\n",
      "Epoch 41/80\n",
      "72/72 [==============================] - 977s 13s/step - loss: 0.0038 - accuracy: 0.8853 - val_loss: 0.0034 - val_accuracy: 0.8639\n",
      "Epoch 42/80\n",
      "72/72 [==============================] - 976s 13s/step - loss: 0.0038 - accuracy: 0.9036 - val_loss: 0.0033 - val_accuracy: 0.9153\n",
      "Epoch 43/80\n",
      "72/72 [==============================] - 976s 13s/step - loss: 0.0037 - accuracy: 0.9114 - val_loss: 0.0033 - val_accuracy: 0.9098\n",
      "Epoch 44/80\n",
      "72/72 [==============================] - 976s 13s/step - loss: 0.0037 - accuracy: 0.9116 - val_loss: 0.0033 - val_accuracy: 0.9019\n",
      "Epoch 45/80\n",
      "72/72 [==============================] - 975s 13s/step - loss: 0.0037 - accuracy: 0.9085 - val_loss: 0.0033 - val_accuracy: 0.9117\n",
      "Epoch 46/80\n",
      "72/72 [==============================] - 976s 13s/step - loss: 0.0052 - accuracy: 0.8363 - val_loss: 0.0043 - val_accuracy: 0.7866\n",
      "Epoch 47/80\n",
      "72/72 [==============================] - 976s 13s/step - loss: 0.0042 - accuracy: 0.8454 - val_loss: 0.0036 - val_accuracy: 0.8764\n",
      "Epoch 48/80\n",
      "72/72 [==============================] - 977s 13s/step - loss: 0.0039 - accuracy: 0.8933 - val_loss: 0.0034 - val_accuracy: 0.9069\n",
      "Epoch 49/80\n",
      "72/72 [==============================] - 978s 13s/step - loss: 0.0038 - accuracy: 0.9026 - val_loss: 0.0033 - val_accuracy: 0.9077\n",
      "Epoch 50/80\n",
      "72/72 [==============================] - 976s 13s/step - loss: 0.0038 - accuracy: 0.9045 - val_loss: 0.0033 - val_accuracy: 0.9050\n",
      "Epoch 51/80\n",
      "72/72 [==============================] - 975s 13s/step - loss: 0.0038 - accuracy: 0.9045 - val_loss: 0.0033 - val_accuracy: 0.9027\n",
      "Epoch 52/80\n",
      "72/72 [==============================] - 977s 13s/step - loss: 0.0038 - accuracy: 0.9074 - val_loss: 0.0033 - val_accuracy: 0.9059\n",
      "Epoch 53/80\n",
      "72/72 [==============================] - 976s 13s/step - loss: 0.0038 - accuracy: 0.9052 - val_loss: 0.0033 - val_accuracy: 0.9103\n"
     ]
    }
   ],
   "source": [
    "history=autoencoder.fit(train_ds,epochs=80,batch_size=10,shuffle=True, callbacks=[callback],validation_data=valid_ds)"
   ]
  },
  {
   "cell_type": "code",
   "execution_count": 50,
   "id": "f4e09364",
   "metadata": {},
   "outputs": [],
   "source": [
    "autoencoder.save('Autoencoder_subpixel_ep_10batch_model.h5') "
   ]
  },
  {
   "cell_type": "code",
   "execution_count": 51,
   "id": "dd816be9",
   "metadata": {},
   "outputs": [
    {
     "data": {
      "image/png": "[encoded data removed]",
      "text/plain": [
       "<Figure size 432x288 with 1 Axes>"
      ]
     },
     "metadata": {
      "needs_background": "light"
     },
     "output_type": "display_data"
    }
   ],
   "source": [
    "loss=history.history[\"loss\"]\n",
    "val_loss=history.history[\"val_loss\"]\n",
    "epochs=range(1,len(loss)+1)\n",
    "plt.plot(epochs,loss,'y',label=\"training loss\")\n",
    "plt.plot(epochs,val_loss,'r',label=\"validation loss\")\n",
    "plt.title(\"training and validation loss\")\n",
    "plt.xlabel(\"Epochs\")\n",
    "plt.ylabel(\"loss\")\n",
    "plt.legend()\n",
    "plt.show()"
   ]
  },
  {
   "cell_type": "code",
   "execution_count": 52,
   "id": "b75f9da6",
   "metadata": {},
   "outputs": [
    {
     "data": {
      "image/png": "[encoded data removed]",
      "text/plain": [
       "<Figure size 432x288 with 1 Axes>"
      ]
     },
     "metadata": {
      "needs_background": "light"
     },
     "output_type": "display_data"
    }
   ],
   "source": [
    "acc=history.history[\"accuracy\"]\n",
    "val_acc=history.history[\"val_accuracy\"]\n",
    "epochs=range(1,len(loss)+1)\n",
    "plt.plot(epochs,acc,'y',label=\"training acc\")\n",
    "plt.plot(epochs,val_acc,'r',label=\"validation acc\")\n",
    "plt.title(\"training and validation accuracy\")\n",
    "plt.xlabel(\"Epochs\")\n",
    "plt.ylabel(\"loss\")\n",
    "plt.legend()\n",
    "plt.show()"
   ]
  },
  {
   "cell_type": "code",
   "execution_count": 53,
   "id": "fdcbce8b",
   "metadata": {},
   "outputs": [
    {
     "name": "stdout",
     "output_type": "stream",
     "text": [
      "{'loss': [0.02555357664823532, 0.00564434053376317, 0.004785572644323111, 0.0045784590765833855, 0.004371095448732376, 0.004240975249558687, 0.004331059753894806, 0.004205331206321716, 0.004112184979021549, 0.004102237056940794, 0.004051520489156246, 0.004046369343996048, 0.00405412632972002, 0.0040761190466582775, 0.003962816670536995, 0.003991218749433756, 0.003981388173997402, 0.003905348014086485, 0.0040951985865831375, 0.0038932866882532835, 0.00389655539765954, 0.0038792146369814873, 0.003851649584248662, 0.0038317060098052025, 0.0038424909580498934, 0.0038727661594748497, 0.003830925328657031, 0.003984138369560242, 0.004002000205218792, 0.0038949029985815287, 0.003786362474784255, 0.003779913065955043, 0.003862610785290599, 0.0037865424528717995, 0.0037618991918861866, 0.003761021653190255, 0.003757425816729665, 0.0037541757337749004, 0.0037808450870215893, 0.0038335018325597048, 0.0038210954517126083, 0.0037642926909029484, 0.0037256896030157804, 0.003717424115166068, 0.003716388251632452, 0.005195799749344587, 0.004234567750245333, 0.0038739230949431658, 0.003809332614764571, 0.0037876118440181017, 0.003774487879127264, 0.0037587278056889772, 0.003753360826522112], 'accuracy': [0.6152315735816956, 0.8278577923774719, 0.8599130511283875, 0.8704561591148376, 0.87115877866745, 0.8840030431747437, 0.8855767846107483, 0.8880998492240906, 0.8927003741264343, 0.8911249041557312, 0.8961053490638733, 0.8926779627799988, 0.8911263942718506, 0.8842688798904419, 0.8968098759651184, 0.8953548073768616, 0.8940842747688293, 0.899441123008728, 0.8929802775382996, 0.900251030921936, 0.8982086777687073, 0.9007638692855835, 0.8985745906829834, 0.903294563293457, 0.9018169045448303, 0.8920761346817017, 0.902802586555481, 0.8844702243804932, 0.8857768774032593, 0.8934880495071411, 0.9025639295578003, 0.9068904519081116, 0.8896484375, 0.9020603895187378, 0.9077271223068237, 0.904323160648346, 0.9057623744010925, 0.9049686193466187, 0.8965045213699341, 0.8960402011871338, 0.885256290435791, 0.9036076068878174, 0.9114159345626831, 0.9116146564483643, 0.9084637761116028, 0.8363345861434937, 0.8453509211540222, 0.8932647705078125, 0.9026133418083191, 0.9044586420059204, 0.90446537733078, 0.907434344291687, 0.9051728248596191], 'val_loss': [0.006005243398249149, 0.004410756751894951, 0.004074188880622387, 0.003911234904080629, 0.0037878251168876886, 0.0037311676423996687, 0.004110722802579403, 0.0036598287988454103, 0.0036526063922792673, 0.003582312259823084, 0.0035769937094300985, 0.0035495629999786615, 0.00355652067810297, 0.003525468986481428, 0.0034875243436545134, 0.003796117613092065, 0.0034599576611071825, 0.0034400757867842913, 0.0034805876202881336, 0.003436512779444456, 0.0034438110888004303, 0.003402634523808956, 0.0033855068031698465, 0.003378965426236391, 0.0035619705449789762, 0.003379931440576911, 0.003480496583506465, 0.0038250756915658712, 0.0036514834500849247, 0.003350874874740839, 0.0033386037684977055, 0.003342464566230774, 0.003387965029105544, 0.003327880520373583, 0.0033258090261369944, 0.00330882309935987, 0.003339023096486926, 0.0033189074601978064, 0.0033136934507638216, 0.003401427762582898, 0.003404902759939432, 0.0032904804684221745, 0.003280298551544547, 0.003282185411080718, 0.003304729936644435, 0.0043199448846280575, 0.0035945442505180836, 0.003374801715835929, 0.0033463656436651945, 0.0033316384069621563, 0.003325275843963027, 0.0033135463017970324, 0.0033032484352588654], 'val_accuracy': [0.7252370119094849, 0.8439657688140869, 0.8602994084358215, 0.8779423832893372, 0.8887836933135986, 0.9016942381858826, 0.8892609477043152, 0.8967312574386597, 0.8927817344665527, 0.890294075012207, 0.8961905837059021, 0.8916409015655518, 0.8963325619697571, 0.8876680135726929, 0.8852964639663696, 0.8883312940597534, 0.8938678503036499, 0.9015399217605591, 0.9089576601982117, 0.9013010859489441, 0.9128281474113464, 0.8951361179351807, 0.8935067057609558, 0.9094226360321045, 0.9030280113220215, 0.8839627504348755, 0.9051050543785095, 0.9113125205039978, 0.9055299758911133, 0.8927578330039978, 0.902543306350708, 0.9110317826271057, 0.8932077288627625, 0.8943008184432983, 0.9145867824554443, 0.9098683595657349, 0.8846067786216736, 0.9019173383712769, 0.891047477722168, 0.897049605846405, 0.8639419674873352, 0.9152788519859314, 0.909758985042572, 0.9019479751586914, 0.9117304682731628, 0.7866179347038269, 0.8764443397521973, 0.9068545699119568, 0.9077154994010925, 0.9049829244613647, 0.9026731848716736, 0.905884325504303, 0.9103437066078186]}\n"
     ]
    }
   ],
   "source": [
    "print(history.history)"
   ]
  },
  {
   "cell_type": "code",
   "execution_count": null,
   "id": "96c0239a",
   "metadata": {},
   "outputs": [],
   "source": []
  }
 ],
 "metadata": {
  "kernelspec": {
   "display_name": "Python 3",
   "language": "python",
   "name": "python3"
  },
  "language_info": {
   "codemirror_mode": {
    "name": "ipython",
    "version": 3
   },
   "file_extension": ".py",
   "mimetype": "text/x-python",
   "name": "python",
   "nbconvert_exporter": "python",
   "pygments_lexer": "ipython3",
   "version": "3.8.8"
  }
 },
 "nbformat": 4,
 "nbformat_minor": 5
}
