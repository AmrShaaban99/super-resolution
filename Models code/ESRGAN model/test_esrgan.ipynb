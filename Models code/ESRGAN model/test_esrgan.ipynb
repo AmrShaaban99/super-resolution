{
 "cells": [
  {
   "cell_type": "code",
   "execution_count": 1,
   "id": "7ffcb4e3",
   "metadata": {},
   "outputs": [],
   "source": [
    "from tensorflow.keras.layers import Input, Dense, Conv2D, MaxPooling2D, Dropout\n",
    "from tensorflow.keras.layers import Conv2DTranspose, UpSampling2D, add\n",
    "from skimage.transform import resize, rescale\n",
    "from tensorflow.keras.models import Model\n",
    "from tensorflow.keras import regularizers\n",
    "import matplotlib.pyplot as plt\n",
    "from scipy import ndimage, misc\n",
    "from matplotlib import pyplot\n",
    "import tensorflow as tf\n",
    "import numpy as np\n",
    "np.random.seed(0)\n",
    "import re\n",
    "import os\n",
    "import cv2\n",
    "import matplotlib.image as mpimg\n",
    "from tensorflow.keras.layers import Dense, Flatten, Input, Conv2D, LeakyReLU\n",
    "import functools"
   ]
  },
  {
   "cell_type": "code",
   "execution_count": 2,
   "id": "abe0712e",
   "metadata": {},
   "outputs": [],
   "source": [
    "class ResInResDenseBlock(tf.keras.layers.Layer):\n",
    "    \"\"\"Residual imn n Residual Dense Block\"\"\"\n",
    "    def __init__(self, nf=64, gc=32, res_beta=0.2, wd=0., name='RRDB',\n",
    "                 **kwargs):\n",
    "        super(ResInResDenseBlock, self).__init__(name=name, **kwargs)\n",
    "        self.res_beta = res_beta\n",
    "        self.rdb_1 = ResDenseBlock_5C(nf, gc, res_beta=res_beta, wd=wd)\n",
    "        self.rdb_2 = ResDenseBlock_5C(nf, gc, res_beta=res_beta, wd=wd)\n",
    "        self.rdb_3 = ResDenseBlock_5C(nf, gc, res_beta=res_beta, wd=wd)\n",
    "        \n",
    "        \n",
    "    def call(self, x):\n",
    "        out = self.rdb_1(x)\n",
    "        out = self.rdb_2(out)\n",
    "        out = self.rdb_3(out)\n",
    "        return out * self.res_beta + x\n",
    "\n",
    "class ResDenseBlock_5C(tf.keras.layers.Layer):\n",
    "    \"\"\"Residual Dense Block\"\"\"\n",
    "    def __init__(self, nf=64, gc=32, res_beta=0.2, wd=0., name='RDB5C',**kwargs):\n",
    "        super(ResDenseBlock_5C, self).__init__(name=name, **kwargs)\n",
    "        # gc: growth channel, i.e. intermediate channels\n",
    "        self.res_beta = res_beta\n",
    "        lrelu_f = functools.partial(LeakyReLU, alpha=0.2)\n",
    "        _Conv2DLayer = functools.partial(\n",
    "            Conv2D, kernel_size=3, padding='same',\n",
    "            kernel_initializer=_kernel_init(0.1), bias_initializer='zeros',\n",
    "            kernel_regularizer=_regularizer(wd))\n",
    "        self.conv1 = _Conv2DLayer(filters=gc, activation=lrelu_f())\n",
    "        self.conv2 = _Conv2DLayer(filters=gc, activation=lrelu_f())\n",
    "        self.conv3 = _Conv2DLayer(filters=gc, activation=lrelu_f())\n",
    "        self.conv4 = _Conv2DLayer(filters=gc, activation=lrelu_f())\n",
    "        self.conv5 = _Conv2DLayer(filters=nf, activation=lrelu_f())\n",
    "\n",
    "    def call(self, x):\n",
    "        x1 = self.conv1(x)\n",
    "        x2 = self.conv2(tf.concat([x, x1], 3))\n",
    "        x3 = self.conv3(tf.concat([x, x1, x2], 3))\n",
    "        x4 = self.conv4(tf.concat([x, x1, x2, x3], 3))\n",
    "        x5 = self.conv5(tf.concat([x, x1, x2, x3, x4], 3))\n",
    "        return x5 * self.res_beta + x\n",
    "    #custom_objects={'ResInResDenseBlock': ResInResDenseBlock,'ResDenseBlock_5C':ResDenseBlock_5C,\"LeakyReLU\":LeakyReLU}\n",
    "def _kernel_init(scale=1.0, seed=None):\n",
    "    \"\"\"He normal initializer with scale.\"\"\"\n",
    "    scale = 2. * scale\n",
    "    return tf.keras.initializers.VarianceScaling(\n",
    "        scale=scale, mode='fan_in', distribution=\"truncated_normal\", seed=seed)\n",
    "def _regularizer(weights_decay=5e-4):\n",
    "    return tf.keras.regularizers.l2(weights_decay)"
   ]
  },
  {
   "cell_type": "code",
   "execution_count": 3,
   "id": "fe1e2a44",
   "metadata": {
    "scrolled": false
   },
   "outputs": [
    {
     "name": "stdout",
     "output_type": "stream",
     "text": [
      "WARNING:tensorflow:No training configuration found in the save file, so the model was *not* compiled. Compile it manually.\n"
     ]
    }
   ],
   "source": [
    "model =  tf.keras.models.load_model('model9.h5',custom_objects={'ResInResDenseBlock': ResInResDenseBlock,'ResDenseBlock_5C':ResDenseBlock_5C,'LeakyReLU':LeakyReLU} )"
   ]
  },
  {
   "cell_type": "code",
   "execution_count": 4,
   "id": "6c4b50ca",
   "metadata": {},
   "outputs": [
    {
     "name": "stdout",
     "output_type": "stream",
     "text": [
      "Model: \"RRDB_model\"\n",
      "__________________________________________________________________________________________________\n",
      "Layer (type)                    Output Shape         Param #     Connected to                     \n",
      "==================================================================================================\n",
      "input_image (InputLayer)        [(None, None, None,  0                                            \n",
      "__________________________________________________________________________________________________\n",
      "conv_first (Conv2D)             (None, None, None, 6 1792        input_image[0][0]                \n",
      "__________________________________________________________________________________________________\n",
      "RRDB_trunk (Sequential)         (None, None, None, 6 16546752    conv_first[0][0]                 \n",
      "__________________________________________________________________________________________________\n",
      "conv_trunk (Conv2D)             (None, None, None, 6 36928       RRDB_trunk[0][0]                 \n",
      "__________________________________________________________________________________________________\n",
      "tf_op_layer_AddV2 (TensorFlowOp (None, None, None, 6 0           conv_first[0][0]                 \n",
      "                                                                 conv_trunk[0][0]                 \n",
      "__________________________________________________________________________________________________\n",
      "tf_op_layer_Shape (TensorFlowOp (4,)                 0           tf_op_layer_AddV2[0][0]          \n",
      "__________________________________________________________________________________________________\n",
      "tf_op_layer_Shape_1 (TensorFlow (4,)                 0           tf_op_layer_AddV2[0][0]          \n",
      "__________________________________________________________________________________________________\n",
      "tf_op_layer_strided_slice (Tens ()                   0           tf_op_layer_Shape[0][0]          \n",
      "__________________________________________________________________________________________________\n",
      "tf_op_layer_strided_slice_1 (Te ()                   0           tf_op_layer_Shape_1[0][0]        \n",
      "__________________________________________________________________________________________________\n",
      "tf_op_layer_Mul (TensorFlowOpLa ()                   0           tf_op_layer_strided_slice[0][0]  \n",
      "__________________________________________________________________________________________________\n",
      "tf_op_layer_Mul_1 (TensorFlowOp ()                   0           tf_op_layer_strided_slice_1[0][0]\n",
      "__________________________________________________________________________________________________\n",
      "tf_op_layer_size (TensorFlowOpL (2,)                 0           tf_op_layer_Mul[0][0]            \n",
      "                                                                 tf_op_layer_Mul_1[0][0]          \n",
      "__________________________________________________________________________________________________\n",
      "tf_op_layer_ResizeNearestNeighb (None, None, None, 6 0           tf_op_layer_AddV2[0][0]          \n",
      "                                                                 tf_op_layer_size[0][0]           \n",
      "__________________________________________________________________________________________________\n",
      "tf_op_layer_Mul_2 (TensorFlowOp ()                   0           tf_op_layer_strided_slice[0][0]  \n",
      "__________________________________________________________________________________________________\n",
      "tf_op_layer_Mul_3 (TensorFlowOp ()                   0           tf_op_layer_strided_slice_1[0][0]\n",
      "__________________________________________________________________________________________________\n",
      "upconv_1 (Conv2D)               (None, None, None, 6 36928       tf_op_layer_ResizeNearestNeighbor\n",
      "__________________________________________________________________________________________________\n",
      "tf_op_layer_size_1 (TensorFlowO (2,)                 0           tf_op_layer_Mul_2[0][0]          \n",
      "                                                                 tf_op_layer_Mul_3[0][0]          \n",
      "__________________________________________________________________________________________________\n",
      "tf_op_layer_ResizeNearestNeighb (None, None, None, 6 0           upconv_1[0][0]                   \n",
      "                                                                 tf_op_layer_size_1[0][0]         \n",
      "__________________________________________________________________________________________________\n",
      "upconv_2 (Conv2D)               (None, None, None, 6 36928       tf_op_layer_ResizeNearestNeighbor\n",
      "__________________________________________________________________________________________________\n",
      "conv_hr (Conv2D)                (None, None, None, 6 36928       upconv_2[0][0]                   \n",
      "__________________________________________________________________________________________________\n",
      "conv_last (Conv2D)              (None, None, None, 3 1731        conv_hr[0][0]                    \n",
      "==================================================================================================\n",
      "Total params: 16,697,987\n",
      "Trainable params: 16,697,987\n",
      "Non-trainable params: 0\n",
      "__________________________________________________________________________________________________\n"
     ]
    }
   ],
   "source": [
    "model.summary()"
   ]
  },
  {
   "cell_type": "code",
   "execution_count": 5,
   "id": "38fea045",
   "metadata": {},
   "outputs": [],
   "source": [
    "import cv2"
   ]
  },
  {
   "cell_type": "code",
   "execution_count": null,
   "id": "5b8d78f5",
   "metadata": {},
   "outputs": [],
   "source": [
    "for root, dirnames, filenames in os.walk(\"./all_data_0.25/\"):\n",
    "    for filename in filenames:\n",
    "        if re.search(\".(jpg|jpeg|JPEG|png|bmp|tiff)$\", filename):\n",
    "            filepath = os.path.join(root, filename)\n",
    "            Lbaby = mpimg.imread(filepath)\n",
    "            Lbaby = np.array(Lbaby)\n",
    "            Lbaby = [Lbaby]\n",
    "            Lbaby = np.array(Lbaby)\n",
    "            print(\"********************************************************\")\n",
    "            print(str(os.path.splitext(os.path.basename(os.path.normpath(filepath)))[0]))\n",
    "            t0= time.time()\n",
    "            Hbaby = np.clip(model.predict(Lbaby), 0.0, 1.0)\n",
    "            t1 = time.time() - t0\n",
    "            print(\"Time elapsed: \", t1)\n",
    "            print(\"********************************************************\")"
   ]
  }
 ],
 "metadata": {
  "kernelspec": {
   "display_name": "Python 3",
   "language": "python",
   "name": "python3"
  },
  "language_info": {
   "codemirror_mode": {
    "name": "ipython",
    "version": 3
   },
   "file_extension": ".py",
   "mimetype": "text/x-python",
   "name": "python",
   "nbconvert_exporter": "python",
   "pygments_lexer": "ipython3",
   "version": "3.8.8"
  }
 },
 "nbformat": 4,
 "nbformat_minor": 5
}
