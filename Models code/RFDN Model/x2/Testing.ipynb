{
 "cells": [
  {
   "cell_type": "code",
   "execution_count": 14,
   "id": "308244f6",
   "metadata": {},
   "outputs": [],
   "source": [
    "#imports\n",
    "import os\n",
    "import math\n",
    "import numpy as np\n",
    "import tensorflow as tf\n",
    "import matplotlib.pyplot as plt\n",
    "import matplotlib.image as mpimg\n",
    "\n",
    "from tensorflow import keras\n",
    "from tensorflow.keras import Input, Model\n",
    "from tensorflow.keras.preprocessing import image_dataset_from_directory\n",
    "\n",
    "import cv2\n",
    "import sys\n",
    "import glob\n",
    "import time\n",
    "import argparse\n",
    "\n",
    "from PIL import Image\n",
    "import re\n",
    "from skimage import img_as_ubyte\n",
    "import imageio"
   ]
  },
  {
   "cell_type": "code",
   "execution_count": 15,
   "id": "09ee0ad3",
   "metadata": {},
   "outputs": [],
   "source": [
    "#load saaved model\n",
    "rfanet = tf.keras.models.load_model('weights/x2.h5')"
   ]
  },
  {
   "cell_type": "code",
   "execution_count": 16,
   "id": "e3c749fd",
   "metadata": {},
   "outputs": [
    {
     "name": "stdout",
     "output_type": "stream",
     "text": [
      "(1, 256, 256, 3)\n",
      "(1, 144, 144, 3)\n",
      "WARNING:tensorflow:5 out of the last 5 calls to <function Model.make_predict_function.<locals>.predict_function at 0x000001BD75863A60> triggered tf.function retracing. Tracing is expensive and the excessive number of tracings could be due to (1) creating @tf.function repeatedly in a loop, (2) passing tensors with different shapes, (3) passing Python objects instead of tensors. For (1), please define your @tf.function outside of the loop. For (2), @tf.function has experimental_relax_shapes=True option that relaxes argument shapes that can avoid unnecessary retracing. For (3), please refer to https://www.tensorflow.org/tutorials/customization/performance#python_or_tensor_args and https://www.tensorflow.org/api_docs/python/tf/function for  more details.\n",
      "(1, 128, 128, 3)\n",
      "(1, 140, 140, 3)\n",
      "(1, 172, 114, 3)\n"
     ]
    }
   ],
   "source": [
    "#test images path\n",
    "for root, dirnames, filenames in os.walk(\"Test/set5/scale0.25/\"):\n",
    "    for filename in filenames:\n",
    "        if re.search(\".(jpg|jpeg|JPEG|png|bmp|tiff)$\", filename):\n",
    "\n",
    "            filepath = os.path.join(root, filename)\n",
    "            Limg = mpimg.imread(filepath)\n",
    "            Limg = np.array(Limg)\n",
    "            Limg = [Limg]\n",
    "            Limg = np.array(Limg)\n",
    "            Himg = np.clip(rfanet.predict(Limg), 0.0, 1.0)\n",
    "            print(Himg.shape)\n",
    "            #save super resolution image in the desired path \n",
    "            imageio.imwrite(\"Test/set5/SR/\"+\"RFDN\"+str(os.path.splitext(os.path.basename(os.path.normpath(filepath)))[0])+\".png\",img_as_ubyte(Himg[0]))"
   ]
  },
  {
   "cell_type": "code",
   "execution_count": null,
   "id": "bf0ae304",
   "metadata": {},
   "outputs": [],
   "source": [
    "#to calculate psnr and ssim will be found in the testing codes."
   ]
  }
 ],
 "metadata": {
  "kernelspec": {
   "display_name": "Python 3",
   "language": "python",
   "name": "python3"
  },
  "language_info": {
   "codemirror_mode": {
    "name": "ipython",
    "version": 3
   },
   "file_extension": ".py",
   "mimetype": "text/x-python",
   "name": "python",
   "nbconvert_exporter": "python",
   "pygments_lexer": "ipython3",
   "version": "3.8.8"
  }
 },
 "nbformat": 4,
 "nbformat_minor": 5
}
